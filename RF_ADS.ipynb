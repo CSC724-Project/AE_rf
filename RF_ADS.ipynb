{
  "nbformat": 4,
  "nbformat_minor": 0,
  "metadata": {
    "colab": {
      "provenance": []
    },
    "kernelspec": {
      "name": "python3",
      "display_name": "Python 3"
    },
    "language_info": {
      "name": "python"
    }
  },
  "cells": [
    {
      "cell_type": "code",
      "execution_count": 1,
      "metadata": {
        "id": "vSkuc8r71NEh"
      },
      "outputs": [],
      "source": [
        "# Cell 1: Import necessary libraries\n",
        "import pandas as pd\n",
        "import numpy as np\n",
        "from sklearn.model_selection import train_test_split\n",
        "from sklearn.ensemble import RandomForestClassifier\n",
        "from sklearn.metrics import accuracy_score, classification_report, confusion_matrix\n",
        "import matplotlib.pyplot as plt\n",
        "from sklearn.metrics import accuracy_score, classification_report, confusion_matrix, roc_auc_score"
      ]
    },
    {
      "cell_type": "code",
      "source": [
        "# Cell 2: Load the dataset from the CSV file\n",
        "# (Ensure that the file path is correct)\n",
        "df = pd.read_csv('train_defaultCore_with_OT.csv')\n",
        "print(\"Dataset Loaded. Shape:\", df.shape)\n",
        "# Display the first few rows to inspect actual columns/parameters\n",
        "print(df.head())"
      ],
      "metadata": {
        "colab": {
          "base_uri": "https://localhost:8080/"
        },
        "id": "85MQc9Mc1OSB",
        "outputId": "3e505921-ceb4-4e22-8375-889d72463212"
      },
      "execution_count": 2,
      "outputs": [
        {
          "output_type": "stream",
          "name": "stdout",
          "text": [
            "Dataset Loaded. Shape: (7490, 13)\n",
            "   file_size_KB  chunk_size_KB  access_count  access_count_label  avg_read_KB  \\\n",
            "0        512000          16384            30                   3        278.3   \n",
            "1        512000            512            10                   1        183.2   \n",
            "2        204800            128            22                   3         56.3   \n",
            "3       1024000          16384            22                   3        219.7   \n",
            "4        512000             64            15                   2         23.4   \n",
            "\n",
            "   avg_write_KB  max_read_KB  max_write_KB  read_ops  write_ops  \\\n",
            "0         249.5          501           508        20         10   \n",
            "1         378.8          277           465         5          5   \n",
            "2          35.0          126            41        20          2   \n",
            "3          42.5          490            57        20          2   \n",
            "4          41.6           48            65         5         10   \n",
            "\n",
            "   throughput_KBps  combination  OT  \n",
            "0        703786.20   512000 | 3   1  \n",
            "1        681654.02   512000 | 1   0  \n",
            "2         89272.75   204800 | 3   0  \n",
            "3         89190.50  1024000 | 3   0  \n",
            "4        678748.07   512000 | 2   0  \n"
          ]
        }
      ]
    },
    {
      "cell_type": "code",
      "source": [
        "# Cell 3: Explore the dataset: list columns, data types, and basic statistics\n",
        "print(\"Columns in dataset:\", df.columns.tolist())\n",
        "\n",
        "print(\"\\nDataset Information:\")\n",
        "print(df.info())\n",
        "\n",
        "print(\"\\nStatistical Summary:\")\n",
        "print(df.describe())\n",
        "\n",
        "# Optional: Show the distribution of the target column OT\n",
        "print(\"\\nOT value counts:\")\n",
        "print(df['OT'].value_counts())"
      ],
      "metadata": {
        "colab": {
          "base_uri": "https://localhost:8080/"
        },
        "id": "NOu7MF8u1OU1",
        "outputId": "ab5bfc4c-7952-48ec-cdb3-e65b5550294d"
      },
      "execution_count": 3,
      "outputs": [
        {
          "output_type": "stream",
          "name": "stdout",
          "text": [
            "Columns in dataset: ['file_size_KB', 'chunk_size_KB', 'access_count', 'access_count_label', 'avg_read_KB', 'avg_write_KB', 'max_read_KB', 'max_write_KB', 'read_ops', 'write_ops', 'throughput_KBps', 'combination', 'OT']\n",
            "\n",
            "Dataset Information:\n",
            "<class 'pandas.core.frame.DataFrame'>\n",
            "RangeIndex: 7490 entries, 0 to 7489\n",
            "Data columns (total 13 columns):\n",
            " #   Column              Non-Null Count  Dtype  \n",
            "---  ------              --------------  -----  \n",
            " 0   file_size_KB        7490 non-null   int64  \n",
            " 1   chunk_size_KB       7490 non-null   int64  \n",
            " 2   access_count        7490 non-null   int64  \n",
            " 3   access_count_label  7490 non-null   int64  \n",
            " 4   avg_read_KB         7490 non-null   float64\n",
            " 5   avg_write_KB        7490 non-null   float64\n",
            " 6   max_read_KB         7490 non-null   int64  \n",
            " 7   max_write_KB        7490 non-null   int64  \n",
            " 8   read_ops            7490 non-null   int64  \n",
            " 9   write_ops           7490 non-null   int64  \n",
            " 10  throughput_KBps     7490 non-null   float64\n",
            " 11  combination         7490 non-null   object \n",
            " 12  OT                  7490 non-null   int64  \n",
            "dtypes: float64(3), int64(9), object(1)\n",
            "memory usage: 760.8+ KB\n",
            "None\n",
            "\n",
            "Statistical Summary:\n",
            "       file_size_KB  chunk_size_KB  access_count  access_count_label  \\\n",
            "count  7.490000e+03    7490.000000   7490.000000         7490.000000   \n",
            "mean   5.070256e+06   22905.958879     17.357143            2.114152   \n",
            "std    1.118911e+07   37857.052102      7.038699            0.738232   \n",
            "min    1.024000e+03      64.000000      7.000000            1.000000   \n",
            "25%    1.024000e+04     512.000000     12.000000            2.000000   \n",
            "50%    2.048000e+05    4096.000000     15.000000            2.000000   \n",
            "75%    5.120000e+06   32768.000000     22.000000            3.000000   \n",
            "max    5.120000e+07  131072.000000     30.000000            3.000000   \n",
            "\n",
            "       avg_read_KB  avg_write_KB  max_read_KB  max_write_KB     read_ops  \\\n",
            "count  7490.000000   7490.000000  7490.000000   7490.000000  7490.000000   \n",
            "mean    218.279012    217.842830   388.674366    347.923765    11.691589   \n",
            "std      90.453625    103.887135   149.005122    153.912564     6.252441   \n",
            "min      13.800000      4.500000    20.000000      5.000000     5.000000   \n",
            "25%     166.200000    143.125000   305.000000    231.000000     5.000000   \n",
            "50%     241.500000    234.000000   464.000000    412.000000    10.000000   \n",
            "75%     280.700000    289.975000   497.000000    478.000000    20.000000   \n",
            "max     441.400000    512.000000   515.000000    515.000000    20.000000   \n",
            "\n",
            "         write_ops  throughput_KBps           OT  \n",
            "count  7490.000000      7490.000000  7490.000000  \n",
            "mean      5.665554    448010.079768     0.202270  \n",
            "std       3.296194    254671.577229     0.401719  \n",
            "min       2.000000       978.000000     0.000000  \n",
            "25%       2.000000    188552.467500     0.000000  \n",
            "50%       5.000000    602415.915000     0.000000  \n",
            "75%      10.000000    666009.850000     0.000000  \n",
            "max      10.000000    732142.100000     1.000000  \n",
            "\n",
            "OT value counts:\n",
            "OT\n",
            "0    5975\n",
            "1    1515\n",
            "Name: count, dtype: int64\n"
          ]
        }
      ]
    },
    {
      "cell_type": "code",
      "source": [
        "# Cell 4: Preprocessing\n",
        "# Check for missing values in the key columns and drop rows with missing values.\n",
        "print(\"Missing values in each column:\\n\", df.isnull().sum())\n",
        "\n",
        "# Drop rows with missing values in the key columns: adjust these column names if they differ in your dataset.\n",
        "df = df.dropna(subset=['file_size_KB', 'chunk_size_KB', 'OT'])\n",
        "print(\"\\nAfter dropping missing values, new shape:\", df.shape)"
      ],
      "metadata": {
        "colab": {
          "base_uri": "https://localhost:8080/"
        },
        "id": "9msl-Xpa1OXc",
        "outputId": "450f5775-b8e5-4bd1-d1ef-3808d6e9d41c"
      },
      "execution_count": 5,
      "outputs": [
        {
          "output_type": "stream",
          "name": "stdout",
          "text": [
            "Missing values in each column:\n",
            " file_size_KB          0\n",
            "chunk_size_KB         0\n",
            "access_count          0\n",
            "access_count_label    0\n",
            "avg_read_KB           0\n",
            "avg_write_KB          0\n",
            "max_read_KB           0\n",
            "max_write_KB          0\n",
            "read_ops              0\n",
            "write_ops             0\n",
            "throughput_KBps       0\n",
            "combination           0\n",
            "OT                    0\n",
            "dtype: int64\n",
            "\n",
            "After dropping missing values, new shape: (7490, 13)\n"
          ]
        }
      ]
    },
    {
      "cell_type": "code",
      "source": [
        "# Cell 5: Identify the available (candidate) chunk sizes.\n",
        "# We assume that the column is named 'chunk_size'; if it’s different, update accordingly.\n",
        "unique_chunks = np.sort(df['chunk_size_KB'].unique())\n",
        "print(\"Unique chunk sizes in the dataset:\", unique_chunks)"
      ],
      "metadata": {
        "colab": {
          "base_uri": "https://localhost:8080/"
        },
        "id": "p_iXLXRC1OZy",
        "outputId": "328b08ce-f44a-4791-b6a0-04f0b951fda6"
      },
      "execution_count": 6,
      "outputs": [
        {
          "output_type": "stream",
          "name": "stdout",
          "text": [
            "Unique chunk sizes in the dataset: [    64    128    256    512   1024   2048   4096   8192  16384  32768\n",
            "  65536 131072]\n"
          ]
        }
      ]
    },
    {
      "cell_type": "code",
      "source": [
        "# Cell 6: Define features and target for the model.\n",
        "# Here, we use 'file_size' and 'chunk_size' as predictors and 'OT' as the binary target.\n",
        "X = df[['file_size_KB', 'chunk_size_KB']]\n",
        "y = df['OT']\n",
        "\n",
        "# Optionally, check the first few rows of your features and target.\n",
        "print(\"Features (first 5 rows):\")\n",
        "print(X.head())\n",
        "print(\"\\nTarget (first 5 rows):\")\n",
        "print(y.head())"
      ],
      "metadata": {
        "colab": {
          "base_uri": "https://localhost:8080/"
        },
        "id": "d9IQUeAU1OcO",
        "outputId": "5c62a87e-f44d-40a3-e40e-e1963f818643"
      },
      "execution_count": 7,
      "outputs": [
        {
          "output_type": "stream",
          "name": "stdout",
          "text": [
            "Features (first 5 rows):\n",
            "   file_size_KB  chunk_size_KB\n",
            "0        512000          16384\n",
            "1        512000            512\n",
            "2        204800            128\n",
            "3       1024000          16384\n",
            "4        512000             64\n",
            "\n",
            "Target (first 5 rows):\n",
            "0    1\n",
            "1    0\n",
            "2    0\n",
            "3    0\n",
            "4    0\n",
            "Name: OT, dtype: int64\n"
          ]
        }
      ]
    },
    {
      "cell_type": "code",
      "source": [
        "# Cell 7: Split the data into training and testing sets.\n",
        "X_train, X_test, y_train, y_test = train_test_split(X, y, test_size=0.2, random_state=42)\n",
        "print(\"Training set shape:\", X_train.shape)\n",
        "print(\"Test set shape:\", X_test.shape)"
      ],
      "metadata": {
        "colab": {
          "base_uri": "https://localhost:8080/"
        },
        "id": "WHNSYTRp1OeQ",
        "outputId": "4c7a29a0-410f-48fe-809e-57b6749375d0"
      },
      "execution_count": 9,
      "outputs": [
        {
          "output_type": "stream",
          "name": "stdout",
          "text": [
            "Training set shape: (5992, 2)\n",
            "Test set shape: (1498, 2)\n"
          ]
        }
      ]
    },
    {
      "cell_type": "code",
      "source": [
        "# Cell 8: Train a Random Forest Classifier.\n",
        "rf_model = RandomForestClassifier(n_estimators=100, random_state=42)\n",
        "rf_model.fit(X_train, y_train)\n",
        "print(\"Random Forest model trained.\")"
      ],
      "metadata": {
        "colab": {
          "base_uri": "https://localhost:8080/"
        },
        "id": "680FppFD1Og4",
        "outputId": "44e2bcb2-8610-4dce-85fa-8eb72d109489"
      },
      "execution_count": 10,
      "outputs": [
        {
          "output_type": "stream",
          "name": "stdout",
          "text": [
            "Random Forest model trained.\n"
          ]
        }
      ]
    },
    {
      "cell_type": "code",
      "source": [
        "# Cell 9: Evaluate the model on the test set.\n",
        "y_pred = rf_model.predict(X_test)\n",
        "print(\"Accuracy on test set:\", accuracy_score(y_test, y_pred))\n",
        "print(\"\\nClassification Report:\\n\", classification_report(y_test, y_pred))\n",
        "print(\"Confusion Matrix:\\n\", confusion_matrix(y_test, y_pred))"
      ],
      "metadata": {
        "colab": {
          "base_uri": "https://localhost:8080/"
        },
        "id": "wh-uVd6G1OnX",
        "outputId": "e39df61c-f7a2-4274-d23d-6007f9ebe947"
      },
      "execution_count": 11,
      "outputs": [
        {
          "output_type": "stream",
          "name": "stdout",
          "text": [
            "Accuracy on test set: 0.7977303070761015\n",
            "\n",
            "Classification Report:\n",
            "               precision    recall  f1-score   support\n",
            "\n",
            "           0       0.80      1.00      0.89      1195\n",
            "           1       0.00      0.00      0.00       303\n",
            "\n",
            "    accuracy                           0.80      1498\n",
            "   macro avg       0.40      0.50      0.44      1498\n",
            "weighted avg       0.64      0.80      0.71      1498\n",
            "\n",
            "Confusion Matrix:\n",
            " [[1195    0]\n",
            " [ 303    0]]\n"
          ]
        },
        {
          "output_type": "stream",
          "name": "stderr",
          "text": [
            "/usr/local/lib/python3.11/dist-packages/sklearn/metrics/_classification.py:1565: UndefinedMetricWarning: Precision is ill-defined and being set to 0.0 in labels with no predicted samples. Use `zero_division` parameter to control this behavior.\n",
            "  _warn_prf(average, modifier, f\"{metric.capitalize()} is\", len(result))\n",
            "/usr/local/lib/python3.11/dist-packages/sklearn/metrics/_classification.py:1565: UndefinedMetricWarning: Precision is ill-defined and being set to 0.0 in labels with no predicted samples. Use `zero_division` parameter to control this behavior.\n",
            "  _warn_prf(average, modifier, f\"{metric.capitalize()} is\", len(result))\n",
            "/usr/local/lib/python3.11/dist-packages/sklearn/metrics/_classification.py:1565: UndefinedMetricWarning: Precision is ill-defined and being set to 0.0 in labels with no predicted samples. Use `zero_division` parameter to control this behavior.\n",
            "  _warn_prf(average, modifier, f\"{metric.capitalize()} is\", len(result))\n"
          ]
        }
      ]
    },
    {
      "cell_type": "code",
      "source": [
        "# Cell 10: Define a function to determine the optimal chunk size for a given file size.\n",
        "def find_optimal_chunk_size(model, file_size, candidate_chunks, tolerance=1e-4):\n",
        "    \"\"\"\n",
        "    For a given file size, this function iterates over candidate chunk sizes,\n",
        "    predicts the probability of high throughput (OT=1) for each chunk using the model,\n",
        "    and returns the chunk size with the highest probability.\n",
        "\n",
        "    If multiple chunk sizes yield probabilities that are nearly the same (within 'tolerance'),\n",
        "    the function selects the larger chunk size.\n",
        "\n",
        "    Parameters:\n",
        "      model           : Trained RandomForestClassifier.\n",
        "      file_size       : Numeric value representing the file size to test.\n",
        "      candidate_chunks: Iterable of candidate chunk sizes.\n",
        "      tolerance       : Tolerance within which probabilities are considered equal.\n",
        "\n",
        "    Returns:\n",
        "      optimal_chunk   : The optimal chunk size.\n",
        "      max_prob        : The predicted probability for high throughput.\n",
        "    \"\"\"\n",
        "    probs = []\n",
        "    for chunk in candidate_chunks:\n",
        "        features = np.array([[file_size, chunk]])\n",
        "        # The probability that OT==1 is the second element from predict_proba output.\n",
        "        prob = model.predict_proba(features)[0][1]\n",
        "        probs.append(prob)\n",
        "\n",
        "    probs = np.array(probs)\n",
        "    max_prob = np.max(probs)\n",
        "\n",
        "    # Find candidate indices within the tolerance of the max probability.\n",
        "    candidate_idx = np.where(np.abs(probs - max_prob) < tolerance)[0]\n",
        "\n",
        "    # In case of a tie, select the chunk size with the largest value.\n",
        "    if len(candidate_idx) > 1:\n",
        "        optimal_chunk = candidate_chunks[candidate_idx].max()\n",
        "    else:\n",
        "        optimal_chunk = candidate_chunks[np.argmax(probs)]\n",
        "\n",
        "    return optimal_chunk, max_prob\n",
        "\n",
        "# Example usage:\n",
        "file_size_example = 500  # Change this example file size as needed.\n",
        "optimal_chunk, predicted_prob = find_optimal_chunk_size(rf_model, file_size_example, unique_chunks)\n",
        "print(f\"For file size {file_size_example}, the optimal chunk size is {optimal_chunk} with predicted probability {predicted_prob:.4f}\")"
      ],
      "metadata": {
        "colab": {
          "base_uri": "https://localhost:8080/"
        },
        "id": "zb6Qhm3F1Opv",
        "outputId": "06eb024c-0542-4722-be9b-ff3388142da7"
      },
      "execution_count": 12,
      "outputs": [
        {
          "output_type": "stream",
          "name": "stdout",
          "text": [
            "For file size 500, the optimal chunk size is 2048 with predicted probability 0.2566\n"
          ]
        },
        {
          "output_type": "stream",
          "name": "stderr",
          "text": [
            "/usr/local/lib/python3.11/dist-packages/sklearn/utils/validation.py:2739: UserWarning: X does not have valid feature names, but RandomForestClassifier was fitted with feature names\n",
            "  warnings.warn(\n",
            "/usr/local/lib/python3.11/dist-packages/sklearn/utils/validation.py:2739: UserWarning: X does not have valid feature names, but RandomForestClassifier was fitted with feature names\n",
            "  warnings.warn(\n",
            "/usr/local/lib/python3.11/dist-packages/sklearn/utils/validation.py:2739: UserWarning: X does not have valid feature names, but RandomForestClassifier was fitted with feature names\n",
            "  warnings.warn(\n",
            "/usr/local/lib/python3.11/dist-packages/sklearn/utils/validation.py:2739: UserWarning: X does not have valid feature names, but RandomForestClassifier was fitted with feature names\n",
            "  warnings.warn(\n",
            "/usr/local/lib/python3.11/dist-packages/sklearn/utils/validation.py:2739: UserWarning: X does not have valid feature names, but RandomForestClassifier was fitted with feature names\n",
            "  warnings.warn(\n",
            "/usr/local/lib/python3.11/dist-packages/sklearn/utils/validation.py:2739: UserWarning: X does not have valid feature names, but RandomForestClassifier was fitted with feature names\n",
            "  warnings.warn(\n",
            "/usr/local/lib/python3.11/dist-packages/sklearn/utils/validation.py:2739: UserWarning: X does not have valid feature names, but RandomForestClassifier was fitted with feature names\n",
            "  warnings.warn(\n",
            "/usr/local/lib/python3.11/dist-packages/sklearn/utils/validation.py:2739: UserWarning: X does not have valid feature names, but RandomForestClassifier was fitted with feature names\n",
            "  warnings.warn(\n",
            "/usr/local/lib/python3.11/dist-packages/sklearn/utils/validation.py:2739: UserWarning: X does not have valid feature names, but RandomForestClassifier was fitted with feature names\n",
            "  warnings.warn(\n",
            "/usr/local/lib/python3.11/dist-packages/sklearn/utils/validation.py:2739: UserWarning: X does not have valid feature names, but RandomForestClassifier was fitted with feature names\n",
            "  warnings.warn(\n",
            "/usr/local/lib/python3.11/dist-packages/sklearn/utils/validation.py:2739: UserWarning: X does not have valid feature names, but RandomForestClassifier was fitted with feature names\n",
            "  warnings.warn(\n",
            "/usr/local/lib/python3.11/dist-packages/sklearn/utils/validation.py:2739: UserWarning: X does not have valid feature names, but RandomForestClassifier was fitted with feature names\n",
            "  warnings.warn(\n"
          ]
        }
      ]
    },
    {
      "cell_type": "code",
      "source": [
        "# Cell 11: Visualize predicted probability vs. chunk size for a fixed file size.\n",
        "def plot_probabilities(model, file_size, candidate_chunks):\n",
        "    probs = []\n",
        "    for chunk in candidate_chunks:\n",
        "        features = np.array([[file_size, chunk]])\n",
        "        prob = model.predict_proba(features)[0][1]\n",
        "        probs.append(prob)\n",
        "    plt.figure(figsize=(10, 6))\n",
        "    plt.plot(candidate_chunks, probs, marker='o')\n",
        "    plt.xlabel('Chunk Size')\n",
        "    plt.ylabel('Predicted Probability of OT=1')\n",
        "    plt.title(f'Predicted Throughput vs. Chunk Size for File Size = {file_size}')\n",
        "    plt.grid(True)\n",
        "    plt.show()\n",
        "\n",
        "# Plot the probabilities for the example file size.\n",
        "plot_probabilities(rf_model, file_size_example, unique_chunks)"
      ],
      "metadata": {
        "colab": {
          "base_uri": "https://localhost:8080/",
          "height": 981
        },
        "id": "Ouo5GWFd2AbI",
        "outputId": "e178c16f-cd9f-4876-b5f1-784fd789359c"
      },
      "execution_count": 13,
      "outputs": [
        {
          "output_type": "stream",
          "name": "stderr",
          "text": [
            "/usr/local/lib/python3.11/dist-packages/sklearn/utils/validation.py:2739: UserWarning: X does not have valid feature names, but RandomForestClassifier was fitted with feature names\n",
            "  warnings.warn(\n",
            "/usr/local/lib/python3.11/dist-packages/sklearn/utils/validation.py:2739: UserWarning: X does not have valid feature names, but RandomForestClassifier was fitted with feature names\n",
            "  warnings.warn(\n",
            "/usr/local/lib/python3.11/dist-packages/sklearn/utils/validation.py:2739: UserWarning: X does not have valid feature names, but RandomForestClassifier was fitted with feature names\n",
            "  warnings.warn(\n",
            "/usr/local/lib/python3.11/dist-packages/sklearn/utils/validation.py:2739: UserWarning: X does not have valid feature names, but RandomForestClassifier was fitted with feature names\n",
            "  warnings.warn(\n",
            "/usr/local/lib/python3.11/dist-packages/sklearn/utils/validation.py:2739: UserWarning: X does not have valid feature names, but RandomForestClassifier was fitted with feature names\n",
            "  warnings.warn(\n",
            "/usr/local/lib/python3.11/dist-packages/sklearn/utils/validation.py:2739: UserWarning: X does not have valid feature names, but RandomForestClassifier was fitted with feature names\n",
            "  warnings.warn(\n",
            "/usr/local/lib/python3.11/dist-packages/sklearn/utils/validation.py:2739: UserWarning: X does not have valid feature names, but RandomForestClassifier was fitted with feature names\n",
            "  warnings.warn(\n",
            "/usr/local/lib/python3.11/dist-packages/sklearn/utils/validation.py:2739: UserWarning: X does not have valid feature names, but RandomForestClassifier was fitted with feature names\n",
            "  warnings.warn(\n",
            "/usr/local/lib/python3.11/dist-packages/sklearn/utils/validation.py:2739: UserWarning: X does not have valid feature names, but RandomForestClassifier was fitted with feature names\n",
            "  warnings.warn(\n",
            "/usr/local/lib/python3.11/dist-packages/sklearn/utils/validation.py:2739: UserWarning: X does not have valid feature names, but RandomForestClassifier was fitted with feature names\n",
            "  warnings.warn(\n",
            "/usr/local/lib/python3.11/dist-packages/sklearn/utils/validation.py:2739: UserWarning: X does not have valid feature names, but RandomForestClassifier was fitted with feature names\n",
            "  warnings.warn(\n",
            "/usr/local/lib/python3.11/dist-packages/sklearn/utils/validation.py:2739: UserWarning: X does not have valid feature names, but RandomForestClassifier was fitted with feature names\n",
            "  warnings.warn(\n"
          ]
        },
        {
          "output_type": "display_data",
          "data": {
            "text/plain": [
              "<Figure size 1000x600 with 1 Axes>"
            ],
            "image/png": "[encoded data removed]"
          },
          "metadata": {}
        }
      ]
    },
    {
      "cell_type": "code",
      "source": [],
      "metadata": {
        "id": "fYq6Z1nK1OuZ"
      },
      "execution_count": null,
      "outputs": []
    }
  ]
}